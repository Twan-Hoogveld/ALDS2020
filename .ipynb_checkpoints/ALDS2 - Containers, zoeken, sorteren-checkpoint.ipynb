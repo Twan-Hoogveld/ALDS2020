{
 "cells": [
  {
   "cell_type": "markdown",
   "metadata": {},
   "source": [
    "# ALDS Tutorial 2: Containers, zoeken, sorteren\n",
    "\n",
    "Ja!!! Welkom terug! Ik hoop dat jullie week 1 goed door zijn gekomen en weer zin hebben in week 2! \n",
    "\n",
    "Laten we eerst weer eens even beginnen met het doen van de nodige imports: "
   ]
  },
  {
   "cell_type": "code",
   "execution_count": 1,
   "metadata": {},
   "outputs": [
    {
     "name": "stdout",
     "output_type": "stream",
     "text": [
      "Python version is (3, 9, 5, 'final', 0) -> okay\n",
      "IPython version is (7, 29, 0, '') -> okay\n"
     ]
    }
   ],
   "source": [
    "import sys\n",
    "assert sys.version_info.major == 3, \"You need python 3.\" #Asserts zijn handig: ingebouwde unit-testjes in Python\n",
    "print(\"Python version is {} -> okay\".format(sys.version_info[0:30]))\n",
    "\n",
    "import IPython\n",
    "assert IPython.version_info[0] >= 7, \"You need IPython >= 7\"\n",
    "print(\"IPython version is {} -> okay\".format(IPython.version_info))\n",
    "\n",
    "from matplotlib import pyplot as plt\n",
    "import numpy as np\n",
    "import time\n",
    "import statistics as stats"
   ]
  },
  {
   "cell_type": "markdown",
   "metadata": {},
   "source": [
    "Deze tutorial gaat weer gebruik maken van numpy arrays (np.array). Dit is een ontzettend fijn datatype dat erg geoptimaliseerd is (zowel qua memory, als runtime voor allerhande standaardfuncties). Bovendien is er gebruik van numpy arrays enorm flexibel. Deze datastructuur is dusdanig veel gebruikt en heeft zoveel impact gehad dat er een Nature-artikel (dat is één van de belangrijkste wetenschappelijke tijdschriften) over is verschenen: https://www.nature.com/articles/s41586-020-2649-2 (Zeker de moeite waard om eens te lezen). \n",
    "\n",
    "Qua tips voor het gebruik van numpy arrays raad ik de volgende youtube tutorial aan: https://www.youtube.com/watch?v=8Mpc9ukltVA\n",
    "\n",
    "Wij gaan nu een aantal opdrachten doen waarbij we gebruik gaan maken van deze numpy arrays om datastructuren te maken op kop van een array. (Deze gebruik ik liever dan de Python list, omdat numpy arrays zoals gezegd echte arrays zijn.) "
   ]
  },
  {
   "cell_type": "markdown",
   "metadata": {},
   "source": [
    "## Opgave 1: een eigen Stack (een plek op silicoon)\n",
    "\n",
    "Schrijf een eigen Stack-klasse op basis van een numpy array, waar alleen integers in mogen. Je mag zelf kiezen welk soort integers want in numpy mag je kiezen hoe groot de ints mogen zijn en of ze signed of unsigned moeten zijn. Je kan hiervoor dtype gebruiken bij het aanmaken van de array, bijvoorbeeld: dtype='int16' levert 16bit signed integers op. \n",
    "\n",
    "De Stack heeft een fixed capacity (de grootte van de array). Implementeer een klasse MyStack, waar in ieder geval de volgende functies in verwerkt zijn. Zet bij elke functie van de klasse een runtime-complexity analyse (dus de complexiteit middels de big-Oh notatie, en een korte uitleg daarvan). \n",
    "* push(int) (Zet een item op \"kop\" van de lijst - je mag zelf kiezen hoe de Stack groeit, return een boolean die zegt of het pushen gelukt it. Pushen lukt namelijk niet als de maximale capaciteit bereikt is.)\n",
    "* pop() (Return en verwijder het element dat nu op kop van de Stack staat) \n",
    "* peek() (Return het element op kop van de Stack, maar verwijder hem niet) \n",
    "* isEmpty() (Return of de Stack nu leeg is, d.w.z., er nu geen elementen in staan)\n",
    "* isFull() (Return of the maxCapacity bereikt is)\n",
    "\n",
    "Daarna willen we graag de capaciteit kunnen vergroten. Voeg een functie toe \n",
    "* doubleCapacity() (Verdubbel de capaciteit van de Stack. Zorg ervoor dat de volgorde van de elementen op de Stack in tact blijft.) Wat is de runtime complexity (big-Oh) van deze functie? Leg dit uit in het commentaar.\n",
    "\n",
    "Bedenk goede unit tests om de werking van de Stack te testen. Gebruik hiervoor het Python-commando \"assert\" (voor een voorbeeld, zie vorige tutorial). "
   ]
  },
  {
   "cell_type": "code",
   "execution_count": 2,
   "metadata": {},
   "outputs": [
    {
     "name": "stdout",
     "output_type": "stream",
     "text": [
      "31\n",
      "30\n",
      "10\n",
      "38\n"
     ]
    }
   ],
   "source": [
    "class myStack():\n",
    "    \"\"\"\n",
    "    Class to make a stack\n",
    "\n",
    "    EXAMPLE\n",
    "    --------\n",
    "    >>> stack = mystack(42)\n",
    "    \"\"\"\n",
    "    \n",
    "    #Deze methode heeft een runtime van O(...), omdat...\n",
    "    def __init__(self, max_capacity):\n",
    "        \"\"\"\n",
    "        Constructor for Class myStack\n",
    "\n",
    "        PARAMETERS\n",
    "        ------------\n",
    "        self\t:\tself\n",
    "        max_capacity: the maximimum number of elements allowed on the stack.\n",
    "\n",
    "        EXAMPLE\n",
    "        --------\n",
    "        >>> stack = mystack(42)\n",
    "        \"\"\"\n",
    "        self.max_capacity = max_capacity\n",
    "        self.index = 0\n",
    "        self.arr = np.empty(self.max_capacity,dtype='int16')\n",
    "        \n",
    "    def push(self, value):\n",
    "        if self.index < self.max_capacity:\n",
    "            self.arr[self.index] = value\n",
    "            self.index = self.index + 1\n",
    "            \n",
    "            # (O)1 -> index op bepaalde waarde zetten, geen loops, geen effect van lengte op de complexity \n",
    "    \n",
    "    def pop(self):\n",
    "        if self.index > 0:\n",
    "            tmp = self.arr[self.index - 1]\n",
    "            self.index = self.index - 1\n",
    "            return tmp\n",
    "        \n",
    "        # (O)1 -> index op bepaalde waarde zetten, geen loops, geen effect van lengte op de complexity \n",
    "    \n",
    "    def peek(self):\n",
    "        if self.index >= 0:\n",
    "            return self.arr[self.index - 1]\n",
    "        \n",
    "        # (O)1 -> index op bepaalde waarde zetten, geen loops, geen effect van lengte op de complexity\n",
    "        \n",
    "    def isEmpty(self):\n",
    "        if self.index == 0:\n",
    "            return True\n",
    "        return False\n",
    "    \n",
    "    # (O)1 -> index op bepaalde waarde zetten, geen loops, geen effect van lengte op de complexity\n",
    "    \n",
    "    def isFull(self):\n",
    "        if self.index == self.max_capacity:\n",
    "            return True\n",
    "        return False\n",
    "    \n",
    "    # (O)1 -> index op bepaalde waarde zetten, geen loops, geen effect van lengte op de complexity\n",
    "    \n",
    "    def doubleCapacity(self):\n",
    "        self.max_capacity = self.max_capacity * 2\n",
    "        self.arr.resize(self.max_capacity)\n",
    "    # O(N) -> loopt over de arr heen en zet alle nieuwe elementen op 0.\n",
    "      \n",
    "stack = myStack(5)\n",
    "\n",
    "stack.push(10)\n",
    "stack.push(20)\n",
    "stack.push(30)\n",
    "stack.push(30)\n",
    "stack.push(31)\n",
    "stack.push(32)\n",
    "stack.push(33)\n",
    "stack.push(34)\n",
    "stack.push(35)\n",
    "stack.push(36)\n",
    "stack.doubleCapacity()\n",
    "print(stack.pop())\n",
    "print(stack.peek())\n",
    "print(stack.max_capacity)\n",
    "stack.push(37)\n",
    "stack.push(38)\n",
    "print(stack.peek())"
   ]
  },
  {
   "cell_type": "markdown",
   "metadata": {},
   "source": [
    "## Opgave 2: Quick-sort en meer Quick-sort\n",
    "\n",
    "De runtime van Quick-sort is erg afhankelijk van de keuze van de pivot. We gaan in deze opgave hiervoor verschillende alternatieven bekijken en vergelijken om te zien wat daar het effect van is; zowel theoretisch (in termen van de big-Oh) als in de praktijk (door runtime te meten). \n",
    "\n",
    "* Schrijf een functie voor het sorteren van een numpy array met Quicksort. (Zie Algoritmes 16 en 17 van hoofdstuk 7.3 in de reader)\n",
    "* Pas de functie zo aan dat het aantal keer dat twee waardes vergeleken worden ook wordt gereturnt (naast de gesorteerde lijst). (NB: in Python kan je meerdere dingen tegelijk teruggeven bij een functie.) \n",
    "* Schrijf een test-functie, waarbij de gemiddelde waarde van het (bovenstaande) aantal vergelijkingen wordt geschat, door het algoritme X keer voor verschillende random lijsten van lengte L te runnen. Geef naast dit gemiddelde ook de standaardafwijking (standard deviation) terug.  \n",
    "* Schrijf nu een tweede versie van quick-sort, maar nu zo dat de pivot anders wordt gekozen. Namelijk, neem de minimale waarde van tussen (en inclusief) $lo$ en $hi$ (in de array $a$) als de pivot. Geef wederom het aantal vergelijkingen terug. \n",
    "* Vergelijk de twee versies van quicksort voor verschillende groottes van arrays, en plot de resultaten middels matplotlib.pyplot (zoals we ook in de vorige tutorial hadden gedaan), vergeet niet de standaardafwijking mee te plotten als een error region. \n",
    "* Wat valt je op in de resultaten? Was dit wat je verwachtte? Verklaar je antwoord met een verwijzing naar de time complexity (big-Oh) van QuickSort. \n",
    "* Laten we nog eens iets anders proberen voor de pivot. Schrijf nog een alternatieve versie van quicksort die op regel 1 in plaats van een random pivot of de minimumwaarde, nu de **mediaan** van de elementen tussen $lo$ and $hi$ (uit $a$) pakt. Voor de mediaan pakken we de middelste waarde. Bijvoorbeeld, de mediaan van {1, 7, 3, 8, 3, 9, 6} is 6. In Python 3 is dit geïmplementeerd met de standaardfunctie **median()** in de **statistics** module. \n",
    "* Vergelijk deze nieuwe versie door middel van je testfunctie voor verschillende groottes van inputlijsten, en voeg de resultaten toe aan je plot. \n",
    "* Schrijf nu een nieuwe testfunctie die de resultaten in termen van runtime vergelijkt in plaats van het aantal vergelijkingen, en plot de resultaten voor de drie alternatieve quick-sorts. \n",
    "* Licht de resultaten toe, en verklaar de verschillen?\n",
    "* Wat het een goed idee om de mediaan te pakken als pivot? Waarom wel/niet? (Gebruik de time complexity in termen van big-Oh om hier antwoord op te geven.) "
   ]
  },
  {
   "cell_type": "code",
   "execution_count": 3,
   "metadata": {
    "tags": []
   },
   "outputs": [
    {
     "name": "stdout",
     "output_type": "stream",
     "text": [
      "[46, 2354, 7879, 34534, 34578, 47567, 76575, 345368, 3453476, 3535685, 4353658, 8976945]\n",
      "Aantal vergelijkingen : 89917\n",
      "132848.43\n",
      "[156134, 144494, 22148, 104762, 284441, 44446, 6521, 34251, 104086, 95884, 115803, 70120, 124809, 62617, 171910, 295737, 120801, 65891, 396616, 104489, 119425, 127125, 30877, 302295, 44818, 108131, 136194, 133353, 310503, 59640, 171554, 161989, 67062, 82600, 166655, 53345, 40963, 94423, 57364, 98651, 208446, 92831, 160479, 158948, 44134, 69515, 40623, 183874, 55564, 162838, 215839, 182933, 122817, 181243, 123494, 92444, 55439, 248578, 236670, 238799, 95481, 178855, 94344, 168238, 128319, 67625, 69976, 247777, 116058, 302422, 132584, 72358, 31441, 367167, 72434, 32859, 106134, 92644, 34295, 95805, 23732, 158883, 88339, 341814, 133247, 132852, 252190, 122642, 58151, 91973, 165655, 119244, 110424, 104050, 17630, 69731, 148009, 72734, 48709, 227070]\n"
     ]
    }
   ],
   "source": [
    "# Schrijf hier de code voor opgave 2\n",
    "import random\n",
    "\n",
    "def test(L):\n",
    "    lst = []\n",
    "    for _ in range(0,100):\n",
    "        arr = random.sample(range(0,20000),L)\n",
    "        lo = 0\n",
    "        hi = len(arr) - 1\n",
    "        finalResult = quicksort(arr,lo,hi)\n",
    "        lst.append(finalResult[1])\n",
    "    return lst\n",
    "\n",
    "def partition(arr,lo,hi,counter = 0):\n",
    "    i = (lo-1)\n",
    "    pivot = arr[hi]\n",
    "\n",
    "    for j in range(lo, hi):\n",
    "        counter = counter + 1 \n",
    "        if arr[j] <= pivot: \n",
    "            i = i + 1\n",
    "            arr[i], arr[j] = arr[j], arr[i] \n",
    "  \n",
    "    arr[i+1], arr[hi] = arr[hi], arr[i+1] \n",
    "    return (i+1),counter\n",
    "            \n",
    "def quicksort(arr,lo,hi,counter = 0):\n",
    "    if lo >= hi:\n",
    "        return arr\n",
    "    \n",
    "    result = partition(arr,lo,hi)\n",
    "    p = result[0]\n",
    "    counter = counter + result[1]\n",
    "\n",
    "    results = quicksort(arr,lo,p-1,counter)\n",
    "    counter = counter + results[1]\n",
    "\n",
    "    results = quicksort(arr,p+1,hi,counter)\n",
    "    counter = counter + results[1]\n",
    "\n",
    "    return arr,counter\n",
    "\n",
    "def quicksort2(arr,lo,hi,counter = 0):\n",
    "    if lo >= hi:\n",
    "        return arr\n",
    "    \n",
    "    result = partition2(arr,lo,hi)\n",
    "    p = result[0]\n",
    "    counter = counter + result[1]\n",
    "\n",
    "    results = quicksort2(arr,lo,p-1,counter)\n",
    "    counter = counter + results[1]\n",
    "\n",
    "    results = quicksort2(arr,p+1,hi,counter)\n",
    "    counter = counter + results[1]\n",
    "\n",
    "    return arr,counter\n",
    "\n",
    "def partition2(arr,lo,hi):\n",
    "    i = (lo-1)\n",
    "    pivot = arr[hi]\n",
    "    \n",
    "    counter = 0\n",
    "\n",
    "    for j in range(lo, hi):\n",
    "        counter = counter + 1 \n",
    "        if arr[j] <= pivot: \n",
    "            i = i + 1\n",
    "            arr[i], arr[j] = arr[j], arr[i] \n",
    "  \n",
    "    arr[i+1], arr[hi] = arr[hi], arr[i+1] \n",
    "    return (i+1),counter\n",
    "\n",
    "arr = [46,76575,3453476,8976945,2354,7879,34578,4353658,3535685,345368,34534,47567]\n",
    "lo = 0\n",
    "hi = len(arr) - 1\n",
    "\n",
    "finalResult = quicksort(arr,lo,hi)\n",
    "print(finalResult[0])\n",
    "print(\"Aantal vergelijkingen : \" + str(finalResult[1]))\n",
    "\n",
    "print(np.average(test(len(arr))))\n",
    "print(test(len(arr)))\n"
   ]
  },
  {
   "cell_type": "markdown",
   "metadata": {},
   "source": [
    "*beantwoordt hier de vragen van opgave 2*"
   ]
  },
  {
   "cell_type": "markdown",
   "metadata": {},
   "source": [
    "## Opgave 3: Priority Queue (waarin we zelf een datastructuur gaan kiezen om een andere datastructuur bovenop te bouwen)\n",
    "\n",
    "**NB: voor deze opgave heb je een partner nodig. (Nee, geen romantische partner, een practicumpartner die ook deze cursus volgt.) Neem contact op met het groepje waarin je bent ingedeeld voor de besprekingsmomenten, en bespreek vooraf de keuzes voor deze opgave (qua datastructuur). Het is van belang dat niet iedereen dezelfde datastructuur pakt namelijk, anders valt er weinig te vergelijken. *Als je niet bent ingedeeld, of je je groepsgenoten reageren niet, neem dan zsm even contactop met Marius of Diederik, dan zoeken we naar een oplossing.*  **\n",
    "\n",
    "PriorityQueues zijn een datastructuur met de volgende eigenschappen: \n",
    "* Het is een wachtrij, waarbij elk element een *prioriteit* toegekend krijgt. Deze prioriteit is meestal een integer, (maar soms kan het ook een float zijn). \n",
    "* Bij gelijke *prioriteit* (dus bijvoorbeeld, alle elementen in de rij hebben prioriteit *1*) gedraagt een priority queue zich net zoals een queue; first in first out (FIFO)\n",
    "* Echter, als er een element met een hogere prioriteit wordt toegevoegd gaat deze eerst. \n",
    "\n",
    "Priority Queues worden veel gebruikt bij dingen als task-scheduling binnen applicaties, het OS, of de cloud (https://www.researchgate.net/publication/257726215_A_Priority_Based_Job_Scheduling_Algorithm_in_Cloud_Computing), wachtrijen voor verzenden (telefoongespreken zijn belangrijker dan e-mails want ze moeten real-time) (https://patentimages.storage.googleapis.com/72/1a/c2/7cd0205566e125/US7310670.pdf), maar ook bijvoorbeeld binnen zelf-lerende systemen door te kijken naar welke \"ervaringen\" de meeste leeropbrengst zouden opleveren (en die dan eerst verwerken) zodat het systeem sneller leert (https://link.springer.com/content/pdf/10.1007/BF00993104.pdf). \n",
    "\n",
    "In deze opgave gaan we kijken naar hoe we een priority kunnen bouwen, bovenop eenvoudigere datastructuren. De datastructuur onliggend aan een PriorityQueue zouden we namelijk wel eens anders moeten kunnen willen kiezen dan een gewone queue: het inserten van nieuwe elementen (die nu midden in de queue zouden kunnen komen) is namelijk een stuk lastiger (we zouden makkelijk elementen moeten kunnen toevoegen in het midden van de priority queue).\n",
    "\n",
    "Enkele tips hierbij: kijk alvast eens naar recursieve datastructuren (volgend college) zoals de doubly linked list. Of verzin zelf een slimme list om priorities er goed in te krijgen. (Je zou bijvoorbeeld voordeel kunnen hebben als je van te voren al weet dat er bijvoorbeeld tien mogelijke prioriteiten zijn - als je zo'n aanname wilt maken, geef dit dan duidelijk aan in het commentaar.) Als je helemaal los wilt gaan, kijk dan eens naar de heap datastructuur (ook wel een heap-boom, https://en.wikipedia.org/wiki/Heap_(data_structure) , NB: dit is niet hetzelfde als de \"heap\" als rereserveerde geheugenruimte op een chip; daar wordt ongelukkigerwijs helaas dezelfde naam voor gebruikt, maar is iets compleet anders.)\n",
    "\n",
    "* Onderzoek samen met je practicumpartner mogelijke keuzes voor de onderliggende datastructuur voor een priority queue, en spreek af wie welke gaat doen. (Twee verschillenden)\n",
    "* Leg voor de keuze die jij zelf gaat implementeren waarom jullie deze gekozen hebben. \n",
    "* Implementeer de priority queue met de gekozen datastructuur, en daarbij de volgende functies: \n",
    "    * **queue(v, p)** adds value $v$ with priority $p$ to the queue.\n",
    "    * **dequeue()** returns the value with the highest priority and removes the element from the queue.\n",
    "    * **contains(v)** returns \\textit{True} if and only if the queue contains value $v$.\n",
    "    * **remove(e)** removes all elements with value $v$ from the queue.\n",
    "* Analyseer de time complexity van deze priority queue functies zoals je ze hebt geïmplementeerd. Zet je analyse in het commentaar bij de code (zowel de argumentatie als het big-Oh resultaat).\n",
    "* Schrijf een testfunctie voor alle bovenstaande functies om de runtime te meten bij het inserten (queue) van X random waardes met random prioriteiten, het dequeuen van al deze X waarden, het vinden (contains) van Y random waarden (uiteraard kleiner dan X, en te testen vóór alles gedequeued is), en het removen van Z waarden (wederom kleiner dan X en het best los te testen onafhankelijk van de andere functies). \n",
    "* Neem nu de implementatie over van je practicumpartner in een aparte cell, en maak daaronder een runtimevergelijking voor alle vier de functies. Plot de resultaten met matplotlib.pyplot, met zowel de gemiddelden als de standaardafwijken (als error regions), zoals we gewend zijn van de eerste tutorial. \n",
    "* Welke verschillen zie je in de plotjes? Kan je dit verklaren? Zijn er bijvoorbeeld verschillen qua time complexity?\n"
   ]
  },
  {
   "cell_type": "markdown",
   "metadata": {},
   "source": [
    "*leg hier je keuze voor de onderliggende datastructuur uit*"
   ]
  },
  {
   "cell_type": "code",
   "execution_count": 4,
   "metadata": {},
   "outputs": [],
   "source": [
    "#schrijf hier je eigen implementatie van de priority queue, met runtime analyse in het commentaar, en de testfunctie"
   ]
  },
  {
   "cell_type": "code",
   "execution_count": 5,
   "metadata": {},
   "outputs": [],
   "source": [
    "#neem hier de code van je practicumpartner over (NB: misschien zul je de class even moeten hernoemen\n",
    "#maar het is wel handig om dezelfde functienamen te gebruiken)"
   ]
  },
  {
   "cell_type": "code",
   "execution_count": null,
   "metadata": {},
   "outputs": [],
   "source": [
    "#schrijf hier de experimentele vergelijking van jullie vier methodes, en de code om de plotjes te maken"
   ]
  },
  {
   "cell_type": "markdown",
   "metadata": {},
   "source": [
    "*verklaar hier de verschillen in runtime tussen de twee implementaties (met verschillende onderliggende datastructuur)*"
   ]
  }
 ],
 "metadata": {
  "kernelspec": {
   "display_name": "Python 3 (ipykernel)",
   "language": "python",
   "name": "python3"
  },
  "language_info": {
   "codemirror_mode": {
    "name": "ipython",
    "version": 3
   },
   "file_extension": ".py",
   "mimetype": "text/x-python",
   "name": "python",
   "nbconvert_exporter": "python",
   "pygments_lexer": "ipython3",
   "version": "3.9.5"
  }
 },
 "nbformat": 4,
 "nbformat_minor": 4
}
